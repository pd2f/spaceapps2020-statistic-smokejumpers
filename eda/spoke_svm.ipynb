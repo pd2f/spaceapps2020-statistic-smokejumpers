{
 "cells": [
  {
   "cell_type": "code",
   "execution_count": 2,
   "metadata": {},
   "outputs": [],
   "source": [
    "import os\n",
    "from datetime import datetime"
   ]
  },
  {
   "cell_type": "code",
   "execution_count": 3,
   "metadata": {},
   "outputs": [],
   "source": [
    "import numpy as np\n",
    "import pandas as pd\n",
    "import seaborn as sb\n",
    "import matplotlib.pyplot as plt\n",
    "import sklearn\n",
    "\n",
    "from pandas import Series, DataFrame\n",
    "from pylab import rcParams\n",
    "from sklearn import preprocessing\n",
    "from sklearn.svm import SVC\n",
    "from sklearn.model_selection  import train_test_split\n",
    "from sklearn import metrics \n",
    "from sklearn.metrics import classification_report"
   ]
  },
  {
   "cell_type": "code",
   "execution_count": 4,
   "metadata": {},
   "outputs": [],
   "source": [
    "import datetime"
   ]
  },
  {
   "cell_type": "code",
   "execution_count": 5,
   "metadata": {},
   "outputs": [],
   "source": [
    "def to_integer(dt_time):\n",
    "    return 10000*dt_time.year + 100*dt_time.month + dt_time.day"
   ]
  },
  {
   "cell_type": "code",
   "execution_count": 6,
   "metadata": {},
   "outputs": [],
   "source": [
    "%matplotlib inline\n",
    "rcParams['figure.figsize'] = 10, 8\n",
    "sb.set_style('whitegrid')"
   ]
  },
  {
   "cell_type": "markdown",
   "metadata": {},
   "source": [
    "# Obtendo e estruturando base classificada de incêndios"
   ]
  },
  {
   "cell_type": "code",
   "execution_count": 14,
   "metadata": {},
   "outputs": [],
   "source": [
    "df_nasa = pd.read_csv(\"L:\\\\nasa\\\\Fire Detected\\\\DL_FIRE_V1_157292\\\\fire_archive_V1_157292.csv\",dtype={'acq_time': object})"
   ]
  },
  {
   "cell_type": "code",
   "execution_count": 15,
   "metadata": {},
   "outputs": [],
   "source": [
    "df_0119 = df_nasa[[\"acq_date\",'confidence','frp','latitude','longitude','bright_ti4','bright_ti5']][(df_nasa[\"acq_date\"] >='2019-01-01')& (df_nasa[\"acq_date\"] <='2019-01-31')]"
   ]
  },
  {
   "cell_type": "code",
   "execution_count": 16,
   "metadata": {},
   "outputs": [],
   "source": [
    "def classificacao(dfamostra):\n",
    "    df_final = pd.DataFrame(columns=[\"acq_date\",'confidence','frp','latitude','longitude','bright_ti4','bright_ti5',\"fogo\",\"dia\"])\n",
    "    for dia in np.unique(dfamostra.acq_date.values):\n",
    "        df = dfamostra[dfamostra[\"acq_date\"]==dia]\n",
    "        df['fogo'] = True\n",
    "        df['dia'] = dia\n",
    "        df_final = df_final.append(df)\n",
    "        df = dfamostra[dfamostra[\"acq_date\"]!=dia]\n",
    "        df['fogo'] = False\n",
    "        df['dia'] = dia\n",
    "        df_final = df_final.append(df)\n",
    "    return df_final\n",
    "        "
   ]
  },
  {
   "cell_type": "code",
   "execution_count": 17,
   "metadata": {},
   "outputs": [],
   "source": [
    "import warnings\n",
    "warnings.filterwarnings('ignore')"
   ]
  },
  {
   "cell_type": "code",
   "execution_count": 18,
   "metadata": {},
   "outputs": [],
   "source": [
    "df_fogo = classificacao(df_0119)"
   ]
  },
  {
   "cell_type": "markdown",
   "metadata": {},
   "source": [
    "## Convertendo variáveis categóricas para dummies"
   ]
  },
  {
   "cell_type": "code",
   "execution_count": 19,
   "metadata": {},
   "outputs": [],
   "source": [
    "confidence = pd.get_dummies(df_fogo['confidence'],drop_first=True)"
   ]
  },
  {
   "cell_type": "code",
   "execution_count": 20,
   "metadata": {},
   "outputs": [],
   "source": [
    "fogo = pd.get_dummies(df_fogo['fogo'],drop_first=True)"
   ]
  },
  {
   "cell_type": "code",
   "execution_count": 21,
   "metadata": {
    "scrolled": true
   },
   "outputs": [],
   "source": [
    "df_fogo_dmy = pd.concat([df_fogo,confidence],axis=1)"
   ]
  },
  {
   "cell_type": "code",
   "execution_count": 22,
   "metadata": {},
   "outputs": [],
   "source": [
    "df_fogo_dmy['dia'] = df_fogo_dmy.dia.apply(lambda x: to_integer(datetime.datetime.strptime(x,\"%Y-%m-%d\")))"
   ]
  },
  {
   "cell_type": "code",
   "execution_count": 23,
   "metadata": {},
   "outputs": [],
   "source": [
    "df_fogo_dmy['fogo'] = fogo"
   ]
  },
  {
   "cell_type": "code",
   "execution_count": 24,
   "metadata": {
    "collapsed": true
   },
   "outputs": [
    {
     "name": "stdout",
     "output_type": "stream",
     "text": [
      "<class 'pandas.core.frame.DataFrame'>\n",
      "Int64Index: 862296 entries, 9128822 to 9155177\n",
      "Data columns (total 11 columns):\n",
      " #   Column      Non-Null Count   Dtype  \n",
      "---  ------      --------------   -----  \n",
      " 0   acq_date    862296 non-null  object \n",
      " 1   confidence  862296 non-null  object \n",
      " 2   frp         862296 non-null  float64\n",
      " 3   latitude    862296 non-null  float64\n",
      " 4   longitude   862296 non-null  float64\n",
      " 5   bright_ti4  862296 non-null  float64\n",
      " 6   bright_ti5  862296 non-null  float64\n",
      " 7   fogo        862296 non-null  uint8  \n",
      " 8   dia         862296 non-null  int64  \n",
      " 9   l           862296 non-null  uint8  \n",
      " 10  n           862296 non-null  uint8  \n",
      "dtypes: float64(5), int64(1), object(2), uint8(3)\n",
      "memory usage: 61.7+ MB\n"
     ]
    }
   ],
   "source": [
    "df_fogo_dmy.info()"
   ]
  },
  {
   "cell_type": "code",
   "execution_count": 25,
   "metadata": {
    "collapsed": true
   },
   "outputs": [
    {
     "data": {
      "text/plain": [
       "<AxesSubplot:>"
      ]
     },
     "execution_count": 25,
     "metadata": {},
     "output_type": "execute_result"
    },
    {
     "data": {
      "image/png": "[encoded data removed]",
      "text/plain": [
       "<Figure size 720x576 with 2 Axes>"
      ]
     },
     "metadata": {},
     "output_type": "display_data"
    }
   ],
   "source": [
    "sb.heatmap(df_fogo_dmy.corr())  "
   ]
  },
  {
   "cell_type": "markdown",
   "metadata": {},
   "source": [
    "#### devido a alta correlação entre a bright_ti4 e bright_ti5 e  bright_ti5 com l a bright_ti5 será descartada."
   ]
  },
  {
   "cell_type": "code",
   "execution_count": 26,
   "metadata": {},
   "outputs": [],
   "source": [
    "df_fogo_dmy_core = df_fogo_dmy.drop([\"bright_ti5\",\"confidence\",\"acq_date\"],1)"
   ]
  },
  {
   "cell_type": "code",
   "execution_count": 27,
   "metadata": {
    "collapsed": true
   },
   "outputs": [
    {
     "name": "stdout",
     "output_type": "stream",
     "text": [
      "<class 'pandas.core.frame.DataFrame'>\n",
      "Int64Index: 862296 entries, 9128822 to 9155177\n",
      "Data columns (total 8 columns):\n",
      " #   Column      Non-Null Count   Dtype  \n",
      "---  ------      --------------   -----  \n",
      " 0   frp         862296 non-null  float64\n",
      " 1   latitude    862296 non-null  float64\n",
      " 2   longitude   862296 non-null  float64\n",
      " 3   bright_ti4  862296 non-null  float64\n",
      " 4   fogo        862296 non-null  uint8  \n",
      " 5   dia         862296 non-null  int64  \n",
      " 6   l           862296 non-null  uint8  \n",
      " 7   n           862296 non-null  uint8  \n",
      "dtypes: float64(4), int64(1), uint8(3)\n",
      "memory usage: 41.9 MB\n"
     ]
    }
   ],
   "source": [
    "df_fogo_dmy_core.info()"
   ]
  },
  {
   "cell_type": "markdown",
   "metadata": {},
   "source": [
    "# Preparação dos Históricos Metereológicos"
   ]
  },
  {
   "cell_type": "code",
   "execution_count": 85,
   "metadata": {},
   "outputs": [],
   "source": [
    "hdf5= \"L://nasa//Metereologicos//Inmet//2019//vaex2//\""
   ]
  },
  {
   "cell_type": "code",
   "execution_count": 90,
   "metadata": {},
   "outputs": [],
   "source": [
    "features = vaex.open_many([hdf5+l for l in os.listdir(hdf5)])"
   ]
  },
  {
   "cell_type": "code",
   "execution_count": 232,
   "metadata": {},
   "outputs": [],
   "source": [
    "def convert_data(d):\n",
    "    return datetime.strptime(d.strip(),\"%Y/%m/%d\")"
   ]
  },
  {
   "cell_type": "code",
   "execution_count": 168,
   "metadata": {},
   "outputs": [],
   "source": [
    "def convert_string(s):\n",
    "    if s is not None:\n",
    "        return float(s.replace(\",\",\".\"))\n",
    "    else:\n",
    "        return s"
   ]
  },
  {
   "cell_type": "code",
   "execution_count": 203,
   "metadata": {},
   "outputs": [],
   "source": [
    "diasW = features.Data"
   ]
  },
  {
   "cell_type": "code",
   "execution_count": 225,
   "metadata": {},
   "outputs": [],
   "source": [
    "lista_datas = diasW.tolist()"
   ]
  },
  {
   "cell_type": "code",
   "execution_count": null,
   "metadata": {},
   "outputs": [],
   "source": []
  },
  {
   "cell_type": "code",
   "execution_count": 241,
   "metadata": {},
   "outputs": [],
   "source": [
    "radiacao_global_KJm2 = features['RADIACAO GLOBAL (KJ/m2)'].apply(lambda x:convert_string(x))"
   ]
  },
  {
   "cell_type": "code",
   "execution_count": 233,
   "metadata": {},
   "outputs": [],
   "source": [
    "diaslista = [to_integer(convert_data(lt)) for lt in lista_datas]"
   ]
  },
  {
   "cell_type": "code",
   "execution_count": 148,
   "metadata": {},
   "outputs": [],
   "source": [
    "vent_dir = features['VENTO, DIRECAO HORARIA (gr) ( (gr))']"
   ]
  },
  {
   "cell_type": "code",
   "execution_count": 152,
   "metadata": {},
   "outputs": [],
   "source": [
    "vento_vel = features['VENTO, RAJADA MAXIMA (m/s)'].apply(lambda x:convert_string(x))"
   ]
  },
  {
   "cell_type": "code",
   "execution_count": 149,
   "metadata": {},
   "outputs": [],
   "source": [
    "precip_mm = features['PRECIPITACAO TOTAL, HORARIO (mm)'].apply(lambda x:convert_string(x))  "
   ]
  },
  {
   "cell_type": "code",
   "execution_count": 153,
   "metadata": {},
   "outputs": [],
   "source": [
    "umid_rel_ar = features['UMIDADE RELATIVA DO AR, HORARIA (%)']"
   ]
  },
  {
   "cell_type": "code",
   "execution_count": 147,
   "metadata": {},
   "outputs": [],
   "source": [
    "tem_pto_orv = features['TEMPERATURA DO PONTO DE ORVALHO (C)'].apply(lambda x:convert_string(x))"
   ]
  },
  {
   "cell_type": "code",
   "execution_count": 154,
   "metadata": {},
   "outputs": [],
   "source": [
    "temp_ar_bulbo_seco = features['TEMPERATURA DO AR - BULBO SECO, HORARIA (C)'].apply(lambda x:convert_string(x))"
   ]
  },
  {
   "cell_type": "code",
   "execution_count": 150,
   "metadata": {},
   "outputs": [],
   "source": [
    "altitude = features.altitude.apply(lambda x:convert_string(x))  "
   ]
  },
  {
   "cell_type": "code",
   "execution_count": 155,
   "metadata": {},
   "outputs": [],
   "source": [
    "press_atm = features['PRESSAO ATMOSFERICA AO NIVEL DA ESTACAO, HORARIA (mB)'].apply(lambda x:convert_string(x))"
   ]
  },
  {
   "cell_type": "code",
   "execution_count": 151,
   "metadata": {},
   "outputs": [],
   "source": [
    "longitude =  features.longitude.apply(lambda x:convert_string(x))"
   ]
  },
  {
   "cell_type": "code",
   "execution_count": 156,
   "metadata": {},
   "outputs": [],
   "source": [
    "latitude = features.latitude.apply(lambda x:convert_string(x))"
   ]
  },
  {
   "cell_type": "code",
   "execution_count": 166,
   "metadata": {},
   "outputs": [],
   "source": [
    "df1 = vaex.from_arrays(latitude=latitude.to_numpy(),longitude=longitude.to_numpy())"
   ]
  },
  {
   "cell_type": "code",
   "execution_count": 171,
   "metadata": {},
   "outputs": [],
   "source": [
    "df3 = vaex.from_arrays(press_atm=press_atm.to_numpy(),altitude=altitude.to_numpy())"
   ]
  },
  {
   "cell_type": "code",
   "execution_count": 170,
   "metadata": {},
   "outputs": [],
   "source": [
    "df2 = vaex.from_arrays(temp_ar_bulbo_seco=temp_ar_bulbo_seco.to_numpy(),tem_pto_orv=tem_pto_orv.to_numpy())"
   ]
  },
  {
   "cell_type": "code",
   "execution_count": 172,
   "metadata": {},
   "outputs": [],
   "source": [
    "df4 = vaex.from_arrays(umid_rel_ar=umid_rel_ar.to_numpy(),precip_mm=precip_mm.to_numpy())"
   ]
  },
  {
   "cell_type": "code",
   "execution_count": 173,
   "metadata": {},
   "outputs": [],
   "source": [
    "df5 = vaex.from_arrays(vento_vel=vento_vel.to_numpy(),vent_dir=vent_dir.to_numpy())"
   ]
  },
  {
   "cell_type": "code",
   "execution_count": 242,
   "metadata": {},
   "outputs": [],
   "source": [
    "df6 = vaex.from_arrays(dias_clima = diaslista, radiacao_global_KJm2=radiacao_global_KJm2.to_numpy())"
   ]
  },
  {
   "cell_type": "code",
   "execution_count": 176,
   "metadata": {},
   "outputs": [],
   "source": [
    "df_vaex_final = df1.join(df2)"
   ]
  },
  {
   "cell_type": "code",
   "execution_count": 177,
   "metadata": {},
   "outputs": [],
   "source": [
    "df_vaex_final = df_vaex_final.join(df3)"
   ]
  },
  {
   "cell_type": "code",
   "execution_count": 178,
   "metadata": {},
   "outputs": [],
   "source": [
    "df_vaex_final = df_vaex_final.join(df4)"
   ]
  },
  {
   "cell_type": "code",
   "execution_count": 179,
   "metadata": {},
   "outputs": [],
   "source": [
    "df_vaex_final = df_vaex_final.join(df5)"
   ]
  },
  {
   "cell_type": "code",
   "execution_count": 243,
   "metadata": {},
   "outputs": [],
   "source": [
    "df_vaex_final = df_vaex_final.join(df6)"
   ]
  },
  {
   "cell_type": "code",
   "execution_count": 249,
   "metadata": {
    "collapsed": true
   },
   "outputs": [
    {
     "name": "stderr",
     "output_type": "stream",
     "text": [
      "ERROR:MainThread:root:error creating dataset for 'radiacao_global_KJm2', with type dtype('O') \n",
      "Traceback (most recent call last):\n",
      "  File \"C:\\Users\\Usuario\\Anaconda3\\envs\\Nasa\\lib\\site-packages\\vaex\\hdf5\\export.py\", line 201, in export_hdf5\n",
      "    array = h5column_output.require_dataset('data', shape=shape, dtype=dtype.newbyteorder(byteorder))\n",
      "  File \"C:\\Users\\Usuario\\Anaconda3\\envs\\Nasa\\lib\\site-packages\\h5py\\_hl\\group.py\", line 191, in require_dataset\n",
      "    return self.create_dataset(name, *(shape, dtype), **kwds)\n",
      "  File \"C:\\Users\\Usuario\\Anaconda3\\envs\\Nasa\\lib\\site-packages\\h5py\\_hl\\group.py\", line 136, in create_dataset\n",
      "    dsid = dataset.make_new_dset(self, shape, dtype, data, **kwds)\n",
      "  File \"C:\\Users\\Usuario\\Anaconda3\\envs\\Nasa\\lib\\site-packages\\h5py\\_hl\\dataset.py\", line 118, in make_new_dset\n",
      "    tid = h5t.py_create(dtype, logical=1)\n",
      "  File \"h5py\\h5t.pyx\", line 1634, in h5py.h5t.py_create\n",
      "  File \"h5py\\h5t.pyx\", line 1656, in h5py.h5t.py_create\n",
      "  File \"h5py\\h5t.pyx\", line 1711, in h5py.h5t.py_create\n",
      "TypeError: Object dtype dtype('O') has no native HDF5 equivalent\n"
     ]
    }
   ],
   "source": [
    "#df_vaex_final.export_hdf5(\"L://nasa//Metereologicos//Inmet//2019//vaex2//tratado//dataset_202010041955.hdf5\")"
   ]
  },
  {
   "cell_type": "code",
   "execution_count": 8,
   "metadata": {},
   "outputs": [],
   "source": [
    "#df_vaex_final = vaex.open(\"L://nasa//Metereologicos//Inmet//2019//vaex2//tratado//dataset_202010041955.hdf5\")"
   ]
  },
  {
   "cell_type": "markdown",
   "metadata": {},
   "source": [
    "# Integrando com a base histórica de incêncio classificada"
   ]
  },
  {
   "cell_type": "code",
   "execution_count": 9,
   "metadata": {},
   "outputs": [],
   "source": [
    "import geojson\n",
    "from geopy import distance\n",
    "from shapely.geometry import Point, MultiPoint\n",
    "from shapely.ops import nearest_points\n",
    "import geopandas as gpd"
   ]
  },
  {
   "cell_type": "code",
   "execution_count": 10,
   "metadata": {},
   "outputs": [],
   "source": [
    "pontos_metereo = pd.concat([df_vaex_final.latitude.to_pandas_series(), df_vaex_final.longitude.to_pandas_series()], axis=1)"
   ]
  },
  {
   "cell_type": "code",
   "execution_count": 11,
   "metadata": {},
   "outputs": [],
   "source": [
    "gdf = gpd.GeoDataFrame(\n",
    "    pontos_metereo, geometry=gpd.points_from_xy(pontos_metereo[1], pontos_metereo[1]))"
   ]
  },
  {
   "cell_type": "code",
   "execution_count": 12,
   "metadata": {},
   "outputs": [],
   "source": [
    "destinos  =  MultiPoint(gdf.geometry.values)"
   ]
  },
  {
   "cell_type": "code",
   "execution_count": 295,
   "metadata": {},
   "outputs": [],
   "source": [
    "y=df_fogo_dmy_core.iloc[1][\"latitude\"]"
   ]
  },
  {
   "cell_type": "code",
   "execution_count": 292,
   "metadata": {},
   "outputs": [],
   "source": [
    "x=df_fogo_dmy_core.iloc[1][\"longitude\"]"
   ]
  },
  {
   "cell_type": "code",
   "execution_count": 329,
   "metadata": {},
   "outputs": [],
   "source": [
    "import numpy as nu"
   ]
  },
  {
   "cell_type": "code",
   "execution_count": 344,
   "metadata": {},
   "outputs": [],
   "source": [
    "pt = gpd.points_from_xy(y=[y],x=[x])"
   ]
  },
  {
   "cell_type": "code",
   "execution_count": 347,
   "metadata": {},
   "outputs": [],
   "source": [
    "nearest_geoms = nearest_points(pt[0], destinos)"
   ]
  },
  {
   "cell_type": "code",
   "execution_count": 381,
   "metadata": {},
   "outputs": [],
   "source": [
    "df_fogo_dmy_core = df_fogo_dmy_core.drop(['ponto'],1)"
   ]
  },
  {
   "cell_type": "code",
   "execution_count": 36,
   "metadata": {},
   "outputs": [],
   "source": [
    "df_fogo_dmy_core[\"ponto\"] =     [gpd.points_from_xy(y=[pto['latitude']],x=[pto['longitude']]) for i,pto in df_fogo_dmy_core.iterrows()]"
   ]
  },
  {
   "cell_type": "code",
   "execution_count": 38,
   "metadata": {},
   "outputs": [],
   "source": [
    "df_fogo_dmy_core.to_pickle(\"L:\\\\nasa\\\\Fire Detected\\\\DL_FIRE_V1_157292\\\\tratado\\\\base1.pickle\")"
   ]
  },
  {
   "cell_type": "code",
   "execution_count": null,
   "metadata": {},
   "outputs": [],
   "source": [
    "df_fogo_dmy_core[\"estac_refer\"] = [nearest_points(pm['ponto'][0], destinos) for i,pm in df_fogo_dmy_core.iterrows()]"
   ]
  },
  {
   "cell_type": "code",
   "execution_count": null,
   "metadata": {},
   "outputs": [],
   "source": [
    "#TODO implementar distâcia do ponto ao sensor.\n",
    "df_fogo_dmy_core[\"estac_refer\"] = "
   ]
  },
  {
   "cell_type": "code",
   "execution_count": 37,
   "metadata": {
    "collapsed": true
   },
   "outputs": [
    {
     "ename": "KeyError",
     "evalue": "'estac_refer'",
     "output_type": "error",
     "traceback": [
      "\u001b[1;31m---------------------------------------------------------------------------\u001b[0m",
      "\u001b[1;31mKeyError\u001b[0m                                  Traceback (most recent call last)",
      "\u001b[1;32m~\\Anaconda3\\envs\\Nasa\\lib\\site-packages\\pandas\\core\\indexes\\base.py\u001b[0m in \u001b[0;36mget_loc\u001b[1;34m(self, key, method, tolerance)\u001b[0m\n\u001b[0;32m   2888\u001b[0m             \u001b[1;32mtry\u001b[0m\u001b[1;33m:\u001b[0m\u001b[1;33m\u001b[0m\u001b[1;33m\u001b[0m\u001b[0m\n\u001b[1;32m-> 2889\u001b[1;33m                 \u001b[1;32mreturn\u001b[0m \u001b[0mself\u001b[0m\u001b[1;33m.\u001b[0m\u001b[0m_engine\u001b[0m\u001b[1;33m.\u001b[0m\u001b[0mget_loc\u001b[0m\u001b[1;33m(\u001b[0m\u001b[0mcasted_key\u001b[0m\u001b[1;33m)\u001b[0m\u001b[1;33m\u001b[0m\u001b[1;33m\u001b[0m\u001b[0m\n\u001b[0m\u001b[0;32m   2890\u001b[0m             \u001b[1;32mexcept\u001b[0m \u001b[0mKeyError\u001b[0m \u001b[1;32mas\u001b[0m \u001b[0merr\u001b[0m\u001b[1;33m:\u001b[0m\u001b[1;33m\u001b[0m\u001b[1;33m\u001b[0m\u001b[0m\n",
      "\u001b[1;32mpandas\\_libs\\index.pyx\u001b[0m in \u001b[0;36mpandas._libs.index.IndexEngine.get_loc\u001b[1;34m()\u001b[0m\n",
      "\u001b[1;32mpandas\\_libs\\index.pyx\u001b[0m in \u001b[0;36mpandas._libs.index.IndexEngine.get_loc\u001b[1;34m()\u001b[0m\n",
      "\u001b[1;32mpandas\\_libs\\hashtable_class_helper.pxi\u001b[0m in \u001b[0;36mpandas._libs.hashtable.PyObjectHashTable.get_item\u001b[1;34m()\u001b[0m\n",
      "\u001b[1;32mpandas\\_libs\\hashtable_class_helper.pxi\u001b[0m in \u001b[0;36mpandas._libs.hashtable.PyObjectHashTable.get_item\u001b[1;34m()\u001b[0m\n",
      "\u001b[1;31mKeyError\u001b[0m: 'estac_refer'",
      "\nThe above exception was the direct cause of the following exception:\n",
      "\u001b[1;31mKeyError\u001b[0m                                  Traceback (most recent call last)",
      "\u001b[1;32m<ipython-input-37-28e4cad7ffb0>\u001b[0m in \u001b[0;36m<module>\u001b[1;34m\u001b[0m\n\u001b[1;32m----> 1\u001b[1;33m \u001b[0mdf_fogo_dmy_core\u001b[0m\u001b[1;33m[\u001b[0m\u001b[1;34m\"estac_refer\"\u001b[0m\u001b[1;33m]\u001b[0m\u001b[1;33m\u001b[0m\u001b[1;33m\u001b[0m\u001b[0m\n\u001b[0m",
      "\u001b[1;32m~\\Anaconda3\\envs\\Nasa\\lib\\site-packages\\pandas\\core\\frame.py\u001b[0m in \u001b[0;36m__getitem__\u001b[1;34m(self, key)\u001b[0m\n\u001b[0;32m   2900\u001b[0m             \u001b[1;32mif\u001b[0m \u001b[0mself\u001b[0m\u001b[1;33m.\u001b[0m\u001b[0mcolumns\u001b[0m\u001b[1;33m.\u001b[0m\u001b[0mnlevels\u001b[0m \u001b[1;33m>\u001b[0m \u001b[1;36m1\u001b[0m\u001b[1;33m:\u001b[0m\u001b[1;33m\u001b[0m\u001b[1;33m\u001b[0m\u001b[0m\n\u001b[0;32m   2901\u001b[0m                 \u001b[1;32mreturn\u001b[0m \u001b[0mself\u001b[0m\u001b[1;33m.\u001b[0m\u001b[0m_getitem_multilevel\u001b[0m\u001b[1;33m(\u001b[0m\u001b[0mkey\u001b[0m\u001b[1;33m)\u001b[0m\u001b[1;33m\u001b[0m\u001b[1;33m\u001b[0m\u001b[0m\n\u001b[1;32m-> 2902\u001b[1;33m             \u001b[0mindexer\u001b[0m \u001b[1;33m=\u001b[0m \u001b[0mself\u001b[0m\u001b[1;33m.\u001b[0m\u001b[0mcolumns\u001b[0m\u001b[1;33m.\u001b[0m\u001b[0mget_loc\u001b[0m\u001b[1;33m(\u001b[0m\u001b[0mkey\u001b[0m\u001b[1;33m)\u001b[0m\u001b[1;33m\u001b[0m\u001b[1;33m\u001b[0m\u001b[0m\n\u001b[0m\u001b[0;32m   2903\u001b[0m             \u001b[1;32mif\u001b[0m \u001b[0mis_integer\u001b[0m\u001b[1;33m(\u001b[0m\u001b[0mindexer\u001b[0m\u001b[1;33m)\u001b[0m\u001b[1;33m:\u001b[0m\u001b[1;33m\u001b[0m\u001b[1;33m\u001b[0m\u001b[0m\n\u001b[0;32m   2904\u001b[0m                 \u001b[0mindexer\u001b[0m \u001b[1;33m=\u001b[0m \u001b[1;33m[\u001b[0m\u001b[0mindexer\u001b[0m\u001b[1;33m]\u001b[0m\u001b[1;33m\u001b[0m\u001b[1;33m\u001b[0m\u001b[0m\n",
      "\u001b[1;32m~\\Anaconda3\\envs\\Nasa\\lib\\site-packages\\pandas\\core\\indexes\\base.py\u001b[0m in \u001b[0;36mget_loc\u001b[1;34m(self, key, method, tolerance)\u001b[0m\n\u001b[0;32m   2889\u001b[0m                 \u001b[1;32mreturn\u001b[0m \u001b[0mself\u001b[0m\u001b[1;33m.\u001b[0m\u001b[0m_engine\u001b[0m\u001b[1;33m.\u001b[0m\u001b[0mget_loc\u001b[0m\u001b[1;33m(\u001b[0m\u001b[0mcasted_key\u001b[0m\u001b[1;33m)\u001b[0m\u001b[1;33m\u001b[0m\u001b[1;33m\u001b[0m\u001b[0m\n\u001b[0;32m   2890\u001b[0m             \u001b[1;32mexcept\u001b[0m \u001b[0mKeyError\u001b[0m \u001b[1;32mas\u001b[0m \u001b[0merr\u001b[0m\u001b[1;33m:\u001b[0m\u001b[1;33m\u001b[0m\u001b[1;33m\u001b[0m\u001b[0m\n\u001b[1;32m-> 2891\u001b[1;33m                 \u001b[1;32mraise\u001b[0m \u001b[0mKeyError\u001b[0m\u001b[1;33m(\u001b[0m\u001b[0mkey\u001b[0m\u001b[1;33m)\u001b[0m \u001b[1;32mfrom\u001b[0m \u001b[0merr\u001b[0m\u001b[1;33m\u001b[0m\u001b[1;33m\u001b[0m\u001b[0m\n\u001b[0m\u001b[0;32m   2892\u001b[0m \u001b[1;33m\u001b[0m\u001b[0m\n\u001b[0;32m   2893\u001b[0m         \u001b[1;32mif\u001b[0m \u001b[0mtolerance\u001b[0m \u001b[1;32mis\u001b[0m \u001b[1;32mnot\u001b[0m \u001b[1;32mNone\u001b[0m\u001b[1;33m:\u001b[0m\u001b[1;33m\u001b[0m\u001b[1;33m\u001b[0m\u001b[0m\n",
      "\u001b[1;31mKeyError\u001b[0m: 'estac_refer'"
     ]
    }
   ],
   "source": [
    "['radiacao_global_KJm2','vent_dir','vento_vel','precip_mm','umid_rel_ar','tem_pto_orv','temp_ar_bulbo_seco','press_atm','dist_estac']"
   ]
  },
  {
   "cell_type": "code",
   "execution_count": null,
   "metadata": {},
   "outputs": [],
   "source": [
    "df_fogo_dmy_core[\"dist_estac\"] = "
   ]
  },
  {
   "cell_type": "code",
   "execution_count": null,
   "metadata": {},
   "outputs": [],
   "source": [
    "### Cruzar dados de metereológicos com base classificada"
   ]
  },
  {
   "cell_type": "code",
   "execution_count": null,
   "metadata": {},
   "outputs": [],
   "source": []
  },
  {
   "cell_type": "code",
   "execution_count": null,
   "metadata": {},
   "outputs": [],
   "source": []
  },
  {
   "cell_type": "code",
   "execution_count": null,
   "metadata": {},
   "outputs": [],
   "source": []
  },
  {
   "cell_type": "code",
   "execution_count": null,
   "metadata": {},
   "outputs": [],
   "source": []
  },
  {
   "cell_type": "markdown",
   "metadata": {},
   "source": [
    "# Treinamento do Modelo"
   ]
  },
  {
   "cell_type": "code",
   "execution_count": 7,
   "metadata": {},
   "outputs": [],
   "source": [
    "import vaex\n",
    "from vaex.ml.sklearn import Predictor"
   ]
  },
  {
   "cell_type": "code",
   "execution_count": 34,
   "metadata": {},
   "outputs": [],
   "source": [
    "from sklearn.linear_model import LogisticRegression"
   ]
  },
  {
   "cell_type": "code",
   "execution_count": 40,
   "metadata": {},
   "outputs": [],
   "source": [
    "df_vaex = vaex.from_pandas(df_fogo_dmy_core)"
   ]
  },
  {
   "cell_type": "code",
   "execution_count": 58,
   "metadata": {},
   "outputs": [],
   "source": [
    "df_train, df_test = df_vaex.ml.train_test_split(test_size=0.3, verbose=False)"
   ]
  },
  {
   "cell_type": "code",
   "execution_count": 59,
   "metadata": {},
   "outputs": [],
   "source": [
    "features_linear = ['frp','latitude','longitude','bright_ti4','dia','l','n'] "
   ]
  },
  {
   "cell_type": "code",
   "execution_count": 68,
   "metadata": {},
   "outputs": [],
   "source": [
    "vaex_svc = vaex.ml.sklearn.Predictor(features=features_linear,\n",
    "                                     target='fogo',\n",
    "                                     model=SVC(max_iter=100, random_state=42),\n",
    "                                     prediction_name='prediction_svc')"
   ]
  },
  {
   "cell_type": "code",
   "execution_count": 69,
   "metadata": {},
   "outputs": [],
   "source": [
    "vaex_logistic = vaex.ml.sklearn.Predictor(features=features_linear,\n",
    "                                          target='fogo',\n",
    "                                          model=LogisticRegression(max_iter=100, random_state=42),\n",
    "                                          prediction_name='prediction_lr')"
   ]
  },
  {
   "cell_type": "code",
   "execution_count": 70,
   "metadata": {},
   "outputs": [],
   "source": [
    "for model in [vaex_svc, vaex_logistic]:\n",
    "    model.fit(df_train)\n",
    "    df_train = model.transform(df_train)"
   ]
  },
  {
   "cell_type": "markdown",
   "metadata": {},
   "source": [
    "# Avaliação do modelo"
   ]
  },
  {
   "cell_type": "code",
   "execution_count": 71,
   "metadata": {},
   "outputs": [],
   "source": [
    "from sklearn.metrics import accuracy_score, f1_score, roc_auc_score\n",
    "def binary_metrics(y_true, y_pred):\n",
    "    acc = accuracy_score(y_true=y_true, y_pred=y_pred)\n",
    "    f1 = f1_score(y_true=y_true, y_pred=y_pred)\n",
    "    roc = roc_auc_score(y_true=y_true, y_score=y_pred)\n",
    "    print(f'Accuracy: {acc:.3f}')\n",
    "    print(f'f1 score: {f1:.3f}')\n",
    "    print(f'roc-auc: {roc:.3f}')"
   ]
  },
  {
   "cell_type": "code",
   "execution_count": 72,
   "metadata": {},
   "outputs": [
    {
     "name": "stdout",
     "output_type": "stream",
     "text": [
      "Metrics for the training set:\n",
      "Accuracy: 0.810\n",
      "f1 score: 0.065\n",
      "roc-auc: 0.525\n"
     ]
    }
   ],
   "source": [
    "print('Metrics for the training set:')\n",
    "binary_metrics(y_true=df_train.fogo.values, y_pred=df_train.prediction_svc.values)"
   ]
  },
  {
   "cell_type": "code",
   "execution_count": 81,
   "metadata": {
    "collapsed": true
   },
   "outputs": [
    {
     "data": {
      "text/html": [
       "<table>\n",
       "<thead>\n",
       "<tr><th>#                             </th><th>frp  </th><th>latitude           </th><th>longitude          </th><th>bright_ti4  </th><th>fogo  </th><th>dia     </th><th>l  </th><th>n  </th><th>prediction_svc  </th><th>prediction_lr  </th></tr>\n",
       "</thead>\n",
       "<tbody>\n",
       "<tr><td><i style='opacity: 0.6'>0</i> </td><td>4.86 </td><td>-3.5916089999999996</td><td>-38.862331         </td><td>319.1       </td><td>1     </td><td>20190101</td><td>0  </td><td>1  </td><td>0               </td><td>0              </td></tr>\n",
       "<tr><td><i style='opacity: 0.6'>1</i> </td><td>1.24 </td><td>-3.597454          </td><td>-38.859932         </td><td>316.47      </td><td>1     </td><td>20190101</td><td>0  </td><td>1  </td><td>0               </td><td>0              </td></tr>\n",
       "<tr><td><i style='opacity: 0.6'>2</i> </td><td>1.75 </td><td>-4.924172          </td><td>-37.982002         </td><td>304.4       </td><td>1     </td><td>20190101</td><td>0  </td><td>1  </td><td>0               </td><td>0              </td></tr>\n",
       "<tr><td><i style='opacity: 0.6'>3</i> </td><td>2.04 </td><td>-5.577782          </td><td>-35.229156         </td><td>315.28      </td><td>1     </td><td>20190101</td><td>0  </td><td>1  </td><td>0               </td><td>0              </td></tr>\n",
       "<tr><td><i style='opacity: 0.6'>4</i> </td><td>4.39 </td><td>-3.5921510000000003</td><td>-38.859043         </td><td>338.86      </td><td>1     </td><td>20190101</td><td>0  </td><td>1  </td><td>0               </td><td>0              </td></tr>\n",
       "<tr><td>...                           </td><td>...  </td><td>...                </td><td>...                </td><td>...         </td><td>...   </td><td>...     </td><td>...</td><td>...</td><td>...             </td><td>...            </td></tr>\n",
       "<tr><td><i style='opacity: 0.6'>95</i></td><td>6.35 </td><td>-13.911574         </td><td>-39.190746000000004</td><td>331.89      </td><td>1     </td><td>20190101</td><td>1  </td><td>0  </td><td>0               </td><td>0              </td></tr>\n",
       "<tr><td><i style='opacity: 0.6'>96</i></td><td>6.35 </td><td>-13.915159         </td><td>-39.190220000000004</td><td>331.59      </td><td>1     </td><td>20190101</td><td>1  </td><td>0  </td><td>0               </td><td>0              </td></tr>\n",
       "<tr><td><i style='opacity: 0.6'>97</i></td><td>7.06 </td><td>-15.907743         </td><td>-39.050758         </td><td>338.65      </td><td>1     </td><td>20190101</td><td>1  </td><td>0  </td><td>0               </td><td>0              </td></tr>\n",
       "<tr><td><i style='opacity: 0.6'>98</i></td><td>14.33</td><td>-13.370647         </td><td>-40.809464         </td><td>344.99      </td><td>1     </td><td>20190101</td><td>0  </td><td>1  </td><td>0               </td><td>0              </td></tr>\n",
       "<tr><td><i style='opacity: 0.6'>99</i></td><td>10.69</td><td>-13.374523000000002</td><td>-40.808807         </td><td>344.09      </td><td>1     </td><td>20190101</td><td>0  </td><td>1  </td><td>0               </td><td>0              </td></tr>\n",
       "</tbody>\n",
       "</table>"
      ],
      "text/plain": [
       "#    frp    latitude             longitude            bright_ti4    fogo    dia       l    n    prediction_svc    prediction_lr\n",
       "0    4.86   -3.5916089999999996  -38.862331           319.1         1       20190101  0    1    0                 0\n",
       "1    1.24   -3.597454            -38.859932           316.47        1       20190101  0    1    0                 0\n",
       "2    1.75   -4.924172            -37.982002           304.4         1       20190101  0    1    0                 0\n",
       "3    2.04   -5.577782            -35.229156           315.28        1       20190101  0    1    0                 0\n",
       "4    4.39   -3.5921510000000003  -38.859043           338.86        1       20190101  0    1    0                 0\n",
       "...  ...    ...                  ...                  ...           ...     ...       ...  ...  ...               ...\n",
       "95   6.35   -13.911574           -39.190746000000004  331.89        1       20190101  1    0    0                 0\n",
       "96   6.35   -13.915159           -39.190220000000004  331.59        1       20190101  1    0    0                 0\n",
       "97   7.06   -15.907743           -39.050758           338.65        1       20190101  1    0    0                 0\n",
       "98   14.33  -13.370647           -40.809464           344.99        1       20190101  0    1    0                 0\n",
       "99   10.69  -13.374523000000002  -40.808807           344.09        1       20190101  0    1    0                 0"
      ]
     },
     "execution_count": 81,
     "metadata": {},
     "output_type": "execute_result"
    }
   ],
   "source": [
    "# transferência de estado para o conjunto de testes\n",
    "state = df_train.state_get()\n",
    "df_test.state_set(state)\n",
    "df_test.head(100)"
   ]
  },
  {
   "cell_type": "code",
   "execution_count": 84,
   "metadata": {
    "collapsed": true
   },
   "outputs": [
    {
     "data": {
      "text/html": [
       "<table>\n",
       "<thead>\n",
       "<tr><th>#                                 </th><th>frp   </th><th>latitude           </th><th>longitude          </th><th>bright_ti4  </th><th>fogo  </th><th>dia     </th><th>l  </th><th>n  </th><th>prediction_svc  </th><th>prediction_lr  </th></tr>\n",
       "</thead>\n",
       "<tbody>\n",
       "<tr><td><i style='opacity: 0.6'>0</i>     </td><td>3.98  </td><td>-22.096846         </td><td>-48.296978         </td><td>354.84      </td><td>1     </td><td>20190101</td><td>0  </td><td>1  </td><td>1               </td><td>0              </td></tr>\n",
       "<tr><td><i style='opacity: 0.6'>1</i>     </td><td>5.08  </td><td>-22.907146         </td><td>-43.733371999999996</td><td>351.16      </td><td>1     </td><td>20190101</td><td>0  </td><td>1  </td><td>1               </td><td>0              </td></tr>\n",
       "<tr><td><i style='opacity: 0.6'>2</i>     </td><td>3.8   </td><td>-22.903982         </td><td>-43.734207         </td><td>345.71      </td><td>1     </td><td>20190101</td><td>0  </td><td>1  </td><td>1               </td><td>0              </td></tr>\n",
       "<tr><td><i style='opacity: 0.6'>3</i>     </td><td>106.36</td><td>-11.069245         </td><td>-38.232265000000005</td><td>367.0       </td><td>1     </td><td>20190101</td><td>0  </td><td>0  </td><td>1               </td><td>0              </td></tr>\n",
       "<tr><td><i style='opacity: 0.6'>4</i>     </td><td>56.64 </td><td>-6.984953999999999 </td><td>-38.107964         </td><td>367.0       </td><td>1     </td><td>20190101</td><td>1  </td><td>0  </td><td>1               </td><td>0              </td></tr>\n",
       "<tr><td>...                               </td><td>...   </td><td>...                </td><td>...                </td><td>...         </td><td>...   </td><td>...     </td><td>...</td><td>...</td><td>...             </td><td>...            </td></tr>\n",
       "<tr><td><i style='opacity: 0.6'>43,719</i></td><td>4.64  </td><td>-30.684115999999996</td><td>-51.411884         </td><td>333.42      </td><td>0     </td><td>20190110</td><td>0  </td><td>1  </td><td>1               </td><td>0              </td></tr>\n",
       "<tr><td><i style='opacity: 0.6'>43,720</i></td><td>4.71  </td><td>-22.285912         </td><td>-41.722706         </td><td>349.87      </td><td>0     </td><td>20190110</td><td>0  </td><td>1  </td><td>1               </td><td>0              </td></tr>\n",
       "<tr><td><i style='opacity: 0.6'>43,721</i></td><td>46.37 </td><td>-15.958831         </td><td>-38.970959         </td><td>346.85      </td><td>0     </td><td>20190110</td><td>1  </td><td>0  </td><td>1               </td><td>0              </td></tr>\n",
       "<tr><td><i style='opacity: 0.6'>43,722</i></td><td>12.58 </td><td>-11.990537         </td><td>-45.435246         </td><td>367.0       </td><td>0     </td><td>20190110</td><td>0  </td><td>0  </td><td>1               </td><td>0              </td></tr>\n",
       "<tr><td><i style='opacity: 0.6'>43,723</i></td><td>45.08 </td><td>-9.374893          </td><td>-36.983444         </td><td>347.86      </td><td>0     </td><td>20190110</td><td>0  </td><td>1  </td><td>1               </td><td>0              </td></tr>\n",
       "</tbody>\n",
       "</table>"
      ],
      "text/plain": [
       "#       frp     latitude             longitude            bright_ti4    fogo    dia       l    n    prediction_svc    prediction_lr\n",
       "0       3.98    -22.096846           -48.296978           354.84        1       20190101  0    1    1                 0\n",
       "1       5.08    -22.907146           -43.733371999999996  351.16        1       20190101  0    1    1                 0\n",
       "2       3.8     -22.903982           -43.734207           345.71        1       20190101  0    1    1                 0\n",
       "3       106.36  -11.069245           -38.232265000000005  367.0         1       20190101  0    0    1                 0\n",
       "4       56.64   -6.984953999999999   -38.107964           367.0         1       20190101  1    0    1                 0\n",
       "...     ...     ...                  ...                  ...           ...     ...       ...  ...  ...               ...\n",
       "43,719  4.64    -30.684115999999996  -51.411884           333.42        0       20190110  0    1    1                 0\n",
       "43,720  4.71    -22.285912           -41.722706           349.87        0       20190110  0    1    1                 0\n",
       "43,721  46.37   -15.958831           -38.970959           346.85        0       20190110  1    0    1                 0\n",
       "43,722  12.58   -11.990537           -45.435246           367.0         0       20190110  0    0    1                 0\n",
       "43,723  45.08   -9.374893            -36.983444           347.86        0       20190110  0    1    1                 0"
      ]
     },
     "execution_count": 84,
     "metadata": {},
     "output_type": "execute_result"
    }
   ],
   "source": [
    "df_test[df_test.prediction_svc == 1]"
   ]
  },
  {
   "cell_type": "code",
   "execution_count": 80,
   "metadata": {
    "collapsed": true
   },
   "outputs": [
    {
     "name": "stdout",
     "output_type": "stream",
     "text": [
      "Metrics for the test set:\n",
      "Accuracy: 0.962\n",
      "f1 score: 0.000\n",
      "roc-auc: 0.500\n"
     ]
    }
   ],
   "source": [
    "print('Metrics for the test set:')\n",
    "binary_metrics(y_true=df_test.fogo.values, y_pred=df_test.prediction_lr.values)"
   ]
  },
  {
   "cell_type": "code",
   "execution_count": 78,
   "metadata": {
    "collapsed": true
   },
   "outputs": [
    {
     "name": "stdout",
     "output_type": "stream",
     "text": [
      "              precision    recall  f1-score   support\n",
      "\n",
      "           0       0.96      0.83      0.89    248803\n",
      "           1       0.02      0.08      0.03      9886\n",
      "\n",
      "    accuracy                           0.80    258689\n",
      "   macro avg       0.49      0.45      0.46    258689\n",
      "weighted avg       0.92      0.80      0.86    258689\n",
      "\n"
     ]
    }
   ],
   "source": [
    "print(classification_report(df_test.fogo.values, df_test.prediction_svc.values))"
   ]
  }
 ],
 "metadata": {
  "kernelspec": {
   "display_name": "Python 3",
   "language": "python",
   "name": "python3"
  },
  "language_info": {
   "codemirror_mode": {
    "name": "ipython",
    "version": 3
   },
   "file_extension": ".py",
   "mimetype": "text/x-python",
   "name": "python",
   "nbconvert_exporter": "python",
   "pygments_lexer": "ipython3",
   "version": "3.7.9"
  }
 },
 "nbformat": 4,
 "nbformat_minor": 2
}
